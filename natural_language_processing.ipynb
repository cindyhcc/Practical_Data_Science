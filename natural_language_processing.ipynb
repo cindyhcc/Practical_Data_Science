{
 "cells": [
  {
   "cell_type": "code",
   "execution_count": null,
   "metadata": {},
   "outputs": [],
   "source": [
    "# Colab only: Run this cell to download/install packages\n",
    "import sys\n",
    "if 'google.colab' in sys.modules:\n",
    "    !curl http://www.datasciencecourse.org/assignments/hw3_nlp.tar.gz --output hw3_nlp.tar.gz\n",
    "    !tar -xzf hw3_nlp.tar.gz\n",
    "    !mv hw3_nlp/* ./\n",
    "    !pip install --upgrade --no-deps --force-reinstall git+https://github.com/locuslab/mugrade.git"
   ]
  },
  {
   "cell_type": "markdown",
   "metadata": {},
   "source": [
    "# Natural Language Processing\n",
    "\n",
    "**THIS IS ONLY FOR 15-688 STUDENTS**\n",
    "\n",
    "In this problem you will develop two techniques for analyzing free text documents: a bag of words approach based on a TFIDF matrix and an n-gram language model.\n",
    "\n",
    "You'll be applying your models to the text from the Federalist Papers.  The Federalist papers were a series of essays written in 1787 and 1788 by Alexander Hamilton, James Madison, and John Jay (they were published anonymously at the time), that promoted the ratification of the U.S. Constitution. If you're curious, you can read more about them here: https://en.wikipedia.org/wiki/The_Federalist_Papers. They are a particularly interesting data set because although the authorship of most of the essays has been long known since around the deaths of Hamilton and Madison, there was still some question about the authorship of certain articles into the 20th century.  You'll use document vectors and language models to do this analysis for yourself."
   ]
  },
  {
   "cell_type": "code",
   "execution_count": 1,
   "metadata": {},
   "outputs": [],
   "source": [
    "import collections # we found collections.Counter and collections.defaultdict useful\n",
    "import itertools\n",
    "import gzip\n",
    "import re\n",
    "import numpy as np\n",
    "import scipy.sparse as sp\n",
    "import mugrade\n",
    "from collections import Counter\n",
    "from nltk.corpus import stopwords\n",
    "from scipy.sparse import coo_matrix\n",
    "from collections import defaultdict\n",
    "from numpy import linalg\n",
    "    "
   ]
  },
  {
   "cell_type": "markdown",
   "metadata": {},
   "source": [
    "## The dataset\n",
    "\n",
    "You'll use a copy of the Federalist Papers downloaded from Project Guttenberg, available here: http://www.gutenberg.org/ebooks/18.  Specifically, the \"pg18.txt.gz\" file included with the homework is the raw text downloaded from Project Guttenberg.  To ensure that everyone starts with the exact same corpus, we are providing you the code to load and tokenize this document, as given below."
   ]
  },
  {
   "cell_type": "code",
   "execution_count": 2,
   "metadata": {},
   "outputs": [],
   "source": [
    "def load_federalist_corpus(filename=\"pg18.txt.gz\", encoding='utf8'):\n",
    "    \"\"\" Load the federalist papers as a tokenized list of strings\"\"\"\n",
    "    with gzip.open(filename, \"rt\", encoding=encoding) as f:\n",
    "        data = f.read()\n",
    "    papers = data.split(\"FEDERALIST\")\n",
    "    \n",
    "    # all start with \"To the people of the State of New York:\" (sometimes . instead of :)\n",
    "    # all end with PUBLIUS (or no end at all)\n",
    "    locations = [(i,[-1] + [m.end()+1 for m in re.finditer(r\"of the State of New York\", p)],\n",
    "                 [-1] + [m.start() for m in re.finditer(r\"PUBLIUS\", p)]) for i,p in enumerate(papers)]\n",
    "    papers_content = [papers[i][max(loc[1]):max(loc[2])] for i,loc in enumerate(locations)]\n",
    "\n",
    "    # discard entries that are not actually a paper\n",
    "    papers_content = [p for p in papers_content if len(p) > 0]\n",
    "\n",
    "    # replace all whitespace with a single space\n",
    "    papers_content = [re.sub(r\"\\s+\", \" \", p).lower() for p in papers_content]\n",
    "\n",
    "    # add spaces before all punctuation, so they are separate tokens\n",
    "    punctuation = set(re.findall(r\"[^\\w\\s]+\", \" \".join(papers_content))) - {\"-\",\"'\"}\n",
    "    for c in sorted(punctuation, reverse=True):\n",
    "        papers_content = [p.replace(c, \" \"+c+\" \") for p in papers_content]\n",
    "    papers_content = [re.sub(r\"\\s+\", \" \", p).lower().strip() for p in papers_content]\n",
    "    \n",
    "    authors = [tuple(re.findall(\"MADISON|JAY|HAMILTON\", a)) for a in papers]\n",
    "    authors = [a for a in authors if len(a) > 0]\n",
    "    \n",
    "    numbers = [re.search(r\"No\\. \\d+\", p).group(0) for p in papers if re.search(r\"No\\. \\d+\", p)]\n",
    "    \n",
    "    return papers_content, authors, numbers\n"
   ]
  },
  {
   "cell_type": "code",
   "execution_count": 25,
   "metadata": {},
   "outputs": [],
   "source": [
    "papers_content, authors, numbers=load_federalist_corpus()"
   ]
  },
  {
   "cell_type": "markdown",
   "metadata": {},
   "source": [
    "You're welcome to dig through the code here if you're curious, but it's more important that you look at the objects that the function returns.  The `papers` object is a list of strings, each one containing the full content of one of the Federalist Papers.  All tokens (words) in the text are separated by a single space (this includes some punctuation tokens, which have been modified to include spaces both before and after the punctuation. The `authors` object is a list of lists, which each list contains the author (or potential authors) of a given paper.  Finally, the `numbers` list just contains the number of each Federalist paper.  You won't need to use this last one, but you may be curious to compare the results of your textual analysis to the opinion of historians."
   ]
  },
  {
   "cell_type": "markdown",
   "metadata": {},
   "source": [
    "### Q1: Bag of words, and TFIDF\n",
    "\n",
    "In this portion of the question, you'll use a bag of words model to describe the corpus, and write routines to build a TFIDF matrix and a cosine similarity function.  Specifically, you should first implement the TFIDF function below.  **Note that you need to do this manually, and not via the scikit-learn Tfidf vectorizers you used in a previous assignment question**  This should return a _sparse_ TFIDF matrix (as for the Graph Library assignment, make sure to directly create a sparse matrix using `scipy.sparse.coo_matrix()` rather than create a dense matrix and then convert it to be sparse).\n",
    "\n",
    "You should create the tfidf vector using numpy matrix operations and not use an existing implementation.\n",
    "\n",
    "Important: make sure you do _not_ include the empty token `\"\"` as one of your terms. "
   ]
  },
  {
   "cell_type": "code",
   "execution_count": 3,
   "metadata": {},
   "outputs": [],
   "source": [
    "import math"
   ]
  },
  {
   "cell_type": "code",
   "execution_count": 4,
   "metadata": {},
   "outputs": [],
   "source": [
    "# @mugrade.local_tests\n",
    "# @mugrade.submit_tests('28PY3HJpnZGQT8R2VgdC')\n",
    "\n",
    "\n",
    "def tfidf(docs):\n",
    "    \n",
    "    # set constrain all words non repeated\n",
    "    # list of documents \n",
    "    document_words = [doc.split() for doc in docs]\n",
    "    \n",
    "    # all unique words in all documents\n",
    "    all_words = sorted(set(sum([doc.split() for doc in docs], [])))\n",
    "    total_words = defaultdict(int)\n",
    "    total_num_of_doc = len(docs)\n",
    "    num_of_words = len(document_words)\n",
    "    \n",
    "    for unique_w in all_words:\n",
    "        for i, doc in enumerate(document_words):\n",
    "            if unique_w in doc:\n",
    "                total_words[unique_w] += 1\n",
    "                \n",
    "    tfidf_row = []\n",
    "    tfidf_col = []\n",
    "    data=[]\n",
    "    \n",
    "    for i,doc in enumerate(document_words):\n",
    "        for j,unique_w in enumerate(all_words):\n",
    "            if unique_w in doc:\n",
    "                score=(doc.count(unique_w))*np.log(total_num_of_doc/total_words[unique_w])\n",
    "                if score != 0:\n",
    "                    data.append(score)\n",
    "                    tfidf_row.append(i)\n",
    "                    tfidf_col.append(j)\n",
    "    tfidf_matrix = coo_matrix((data, (tfidf_row, tfidf_col)), shape=(total_num_of_doc,len(all_words))).tocsr()\n",
    "\n",
    "    return tfidf_matrix, all_words"
   ]
  },
  {
   "cell_type": "markdown",
   "metadata": {},
   "source": [
    "Our version results the following result (just showing the type, size, and # of non-zero elements):\n",
    "\n",
    "    <86x8686 sparse matrix of type '<type 'numpy.float64'>'\n",
    "        with 57607 stored elements in Compressed Sparse Row format>"
   ]
  },
  {
   "cell_type": "markdown",
   "metadata": {},
   "source": [
    "### Q2: Cosine Similarity\n",
    "\n",
    "Next, implement the following simple function that takes the X_tfidf matrix (though it could also take simple term frequency matrices, etc), and compute a matrix of all pair-wise cosine similarities."
   ]
  },
  {
   "cell_type": "code",
   "execution_count": 11,
   "metadata": {},
   "outputs": [],
   "source": [
    "# @mugrade.local_tests\n",
    "# @mugrade.submit_tests('28PY3HJpnZGQT8R2VgdC')\n",
    "\n",
    "def cosine_similarity(X):\n",
    "    \"\"\"\n",
    "    Return a matrix of cosine similarities.\n",
    "    \n",
    "    Args:\n",
    "        X: sparse matrix of TFIDF scores or term frequencies\n",
    "    \n",
    "    Returns:\n",
    "        M: dense numpy array of all pairwise cosine similarities.  That is, the \n",
    "           entry M[i,j], should correspond to the cosine similarity between the \n",
    "           ith and jth rows of X.\n",
    "    \"\"\"\n",
    "    tfidf=X.toarray()\n",
    "    n=X.shape[0]\n",
    "    Y=np.zeros((n,n))\n",
    "    for i,doc1 in enumerate(tfidf):\n",
    "        for j,doc2 in enumerate(tfidf):\n",
    "            Y[i,j]=np.dot(doc1,doc2)/(linalg.norm(doc1)*linalg.norm(doc2))\n",
    "    return Y\n"
   ]
  },
  {
   "cell_type": "markdown",
   "metadata": {},
   "source": [
    "### Q3 Analyzing document authorship\n",
    "\n",
    "Finally, use this model to analyze potential authorship of the unknown Federalist Papers.  Specifically, compute the average cosine similarity between all the _known_ Hamilton papers and all the _unknown_ papers (and similarly between known Madison and unknown, and Jay and unknown).  Fill out the following function to compute and return these averages.\n",
    "\n",
    "Hints:\n",
    "\n",
    "1. fit a single TFIDF encoding to all papers and transform all papers using it before computing the similarity measure\n",
    "2. for the cosine similarity to be useful when comparing documents, they must all be encoded the same way. Transform all papers together before comparing cosine similarity.\n",
    "3. the unknown papers have author=`(\"HAMILTON\",\"MADISON\")`;"
   ]
  },
  {
   "cell_type": "code",
   "execution_count": 14,
   "metadata": {},
   "outputs": [
    {
     "name": "stdout",
     "output_type": "stream",
     "text": [
      "Submitting tests for function author_cosine_similarity():\n",
      "  Test 1 PASSED\n"
     ]
    }
   ],
   "source": [
    "# @mugrade.local_tests\n",
    "# @mugrade.submit_tests('28PY3HJpnZGQT8R2VgdC')\n",
    "\n",
    "def author_cosine_similarity(docs, authors):\n",
    "    \"\"\"\n",
    "    Return a tuple of average cosine similarities between all the known papers for a given author\n",
    "    and all the unknown papers.\n",
    "    \n",
    "    Args:\n",
    "        docs: list of strings, where each string represents a space-separated\n",
    "              document\n",
    "        authors: list of lists, which each list contains the author (or potential authors) of a given document\n",
    "    \n",
    "    Returns: tuple: (hamilton_mcs, madison_mcs, jay_mcs)\n",
    "        hamilton_mcs: Average cosine similarity between all the known Hamilton papers and all the unknown papers.\n",
    "        madison_mcs: Average cosine similarity between all the known Madison papers and all the unknown papers.\n",
    "        jay_mcs: Average cosine similarity between all the known Jay papers and all the unknown papers.\n",
    "    \"\"\"\n",
    "    X,_ = tfidf(docs)\n",
    "    cos_s = cosine_similarity(X)\n",
    "\n",
    "    unknown_doc_pos = [pos for pos, author in enumerate(authors) if len(author) > 1]\n",
    "    j_doc_pos = [pos for pos, author in enumerate(authors) if author[0].lower() == 'jay' and len(author)== 1]\n",
    "    m_doc_pos = [pos for pos, author in enumerate(authors) if author[0].lower() == 'madison' and len(author)== 1]\n",
    "    h_doc_pos = [pos for pos, author in enumerate(authors) if author[0].lower() == 'hamilton' and len(author)== 1]\n",
    "    \n",
    "            \n",
    "    hamilton_mcs = cos_s[h_doc_pos,:][:,unknown_doc_pos].mean()\n",
    "    madison_mcs = cos_s[m_doc_pos,:][:,unknown_doc_pos].mean()\n",
    "    jay_mcs = cos_s[j_doc_pos,:][:,unknown_doc_pos].mean()\n",
    "    \n",
    "    \n",
    "    return (hamilton_mcs, madison_mcs, jay_mcs)"
   ]
  },
  {
   "cell_type": "markdown",
   "metadata": {},
   "source": [
    "Run the local test case, `author_cosine_similarity(*load_federalist_corpus()[:2])`, to see which author has the highest degree of similarity with the unknown essays."
   ]
  },
  {
   "cell_type": "markdown",
   "metadata": {},
   "source": [
    "\n",
    "## N-gram language model\n",
    "\n",
    "### Q4 Building an n-gram language model\n",
    "\n",
    "In this question, you will implement an n-gram model to be able to model the language used in the Federalist Papers in a more structured manner than the simple bag of words approach.  You will fill in the following class, and should do it in two parts:\n",
    "\n",
    "### Part A: Initializing the language model\n",
    "\n",
    "First, implement the `__init__()` function in the `LanguageModel` class.  You should do this by building a two-level dictionary (in fact, we used the `collections.defaultdict` class, but this only make a few things a little bit shorter ... you are free to use it or not) `self.counts`, where the first key refers to the previous $n-1$ tokens, and the second key refers to the $n$-th token, and the value simply stores the count of the number of times this combination was seen.  For ease of use in later functions, we also created a `self.count_sums`, which contained the number of total times each $n-1$ combination was seen. We also build a `self.vocabulary` variable, which is just a `set` object containing all the unique words across the entire set of the input document.\n",
    "\n",
    "### Part B: Computing perplexity\n",
    "\n",
    "Next, implement the `perplexity()` function, which takes a text sample and computes the perplexity of this sample under the model.  We'll make a small tweak to the formula for perplexity in the notes because we are skipping the first $n-1$ tokens; since we only compute (#words - $(n-1)$) terms in the sum, you should divide by this denominator and not just #words). Be careful to not multiply together probabilities that get too small (hint: instead of taking the log of a large product, take the sum of the logs).\n",
    "\n",
    "Specifically,\n",
    "\n",
    "\\begin{equation}\n",
    "\\mbox{Perplexity} = 2^{\\frac{-\\log_2 P\\left(\\mathrm{word}_1, \\ldots, \\mathrm{word}_N\\right)}{N-(n+1)}} = 2^{\\text{^}}\\left(\\frac{-\\log_2 P(\\mathrm{word}_1, \\ldots, \\mathrm{word}_N)}{N-(n-1)}\\right)\n",
    "\\end{equation}\n",
    "\n",
    "where\n",
    "\n",
    "\\begin{equation}\n",
    "\\log_2 P(\\mathrm{word}_1, \\ldots, \\mathrm{word}_N) = \\sum_{i=n}^N \\log_2 P(\\mathrm{word}_i | \\mathrm{word}_{i-n+1}, \\ldots, \\mathrm{word}_{i-1})\n",
    "\\end{equation}\n",
    "\n",
    "You'll want to be careful about vocabulary sizes when it comes to the Laplace smoothing term: make sure your vocabulary size $D$ is equal to the total number of unique words that occur in either the original data used to build the language model _or_ in the text we are evaluating the perplexity of (so the size of the union of the two)."
   ]
  },
  {
   "cell_type": "code",
   "execution_count": 113,
   "metadata": {},
   "outputs": [
    {
     "name": "stdout",
     "output_type": "stream",
     "text": [
      "Running local tests for function LanguageModel():\n",
      "  Test 1 PASSED\n",
      "  Test 2 PASSED\n",
      "  Test 3 PASSED\n",
      "  Test 4 PASSED\n",
      "  Test 5 PASSED\n",
      "  Test 6 PASSED\n",
      "  Test 7 PASSED\n",
      "  Test 8 PASSED\n",
      "  Test 9 PASSED\n"
     ]
    }
   ],
   "source": [
    "# @mugrade.local_tests\n",
    "# @mugrade.submit_tests('28PY3HJpnZGQT8R2VgdC')\n",
    "\n",
    "class LanguageModel:\n",
    "    def __init__(self, docs, n):\n",
    "        \"\"\"\n",
    "        Initialize an n-gram language model.\n",
    "        \n",
    "        Args:\n",
    "            docs: list of strings, where each string represents a space-separated\n",
    "                  document\n",
    "            n: integer, degree of n-gram model\n",
    "        \"\"\"\n",
    "        \n",
    "        self.counts = collections.defaultdict(dict) # Dict from space-separated \"previous words\" to a Dict of (next word, count). \n",
    "        self.count_sums = collections.defaultdict(int) # Dict from space-separated \"previous words\" to the total number of times they appear\n",
    "        self.n = n\n",
    "        aw=[]\n",
    "        for doc in docs:\n",
    "            all_words = doc.split()\n",
    "            for j in range(0,len(all_words)-n+1):\n",
    "                current_window_word = \" \".join(all_words[j:j+(n-1)])\n",
    "                adj_word = all_words[j+n-1] \n",
    "                if self.counts[current_window_word] == {}:\n",
    "                    self.counts[current_window_word] = collections.defaultdict(int)\n",
    "\n",
    "                if self.counts[current_window_word][adj_word] == 0:\n",
    "                    self.counts[current_window_word][adj_word] = 1\n",
    "                else:\n",
    "                    self.counts[current_window_word][adj_word] += 1\n",
    "\n",
    "\n",
    "                if self.count_sums[current_window_word] == 0:\n",
    "                    self.count_sums[current_window_word] = 1\n",
    "                else:\n",
    "                    self.count_sums[current_window_word] += 1\n",
    "                    \n",
    "            aw+=doc.split()\n",
    "        self.D=len(np.unique(aw))\n",
    "        self.aw = aw\n",
    "    \n",
    "    def perplexity(self, text, alpha=1e-3):\n",
    "        \"\"\"\n",
    "        Evaluate perplexity of model on some text.\n",
    "        \n",
    "        Args:\n",
    "            text: string containing space-separated words, on which to compute\n",
    "            alpha: constant to use in Laplace smoothing\n",
    "            \n",
    "        Note: for the purposes of smoothing, the vocabulary size (i.e, the D term)\n",
    "        should be equal to the total number of unique words used to build the model\n",
    "        _and_ in the input text to this function.\n",
    "            \n",
    "        Returns: perplexity\n",
    "            perplexity: floating point value, perplexity of the text as evaluated\n",
    "                        under the model.\n",
    "        \"\"\"\n",
    "        \n",
    "        D = self.D\n",
    "        n = self.n\n",
    "        line = text.split()\n",
    "        N = len(line)\n",
    "        prob = []\n",
    "        log2=0\n",
    "        D = len((set(self.aw + line)))\n",
    "        for i in range(n-1, len(line)):\n",
    "            word = \" \".join(line[i-n+1:i])\n",
    "            if word in self.count_sums.keys():\n",
    "                num=self.counts[word][line[i]]\n",
    "                denom=self.count_sums[word]\n",
    "            else:\n",
    "                num=0\n",
    "                denom=0\n",
    "            prob_i = np.log((num+alpha)/(denom + (alpha*D)))\n",
    "            log2+=prob_i\n",
    "        perplexity = np.exp(-log2/(N-(n-1)))\n",
    "        return perplexity\n"
   ]
  },
  {
   "cell_type": "code",
   "execution_count": 49,
   "metadata": {},
   "outputs": [
    {
     "name": "stdout",
     "output_type": "stream",
     "text": [
      "{}\n"
     ]
    }
   ],
   "source": [
    "simpleLM = LanguageModel([\"a a a a a\", \"a b a b\"], 2)\n",
    "# print(dict(simpleLM.counts))\n",
    "print(dict(simpleLM.count_sums))"
   ]
  },
  {
   "cell_type": "markdown",
   "metadata": {},
   "source": [
    "### Q5 Author identification via language models \n",
    "\n",
    "Using this model, evaluate the mean of the perplexity of the unknown Federalist papers for the language models from each of the three authors (again, using `n=3` and the default of `alpha=1e-3`). Fill in the following function to calculate and return the mean perplexities."
   ]
  },
  {
   "cell_type": "code",
   "execution_count": 120,
   "metadata": {},
   "outputs": [
    {
     "name": "stdout",
     "output_type": "stream",
     "text": [
      "Submitting tests for function mean_perplexity():\n",
      "  Test 1 PASSED\n"
     ]
    }
   ],
   "source": [
    "# @mugrade.local_tests\n",
    "# @mugrade.submit_tests('28PY3HJpnZGQT8R2VgdC')\n",
    "\n",
    "def mean_perplexity(docs, authors):\n",
    "    \"\"\"\n",
    "    Evaluate the mean of the perplexity of the unknown Federalist papers for the language models\n",
    "    from each of the three authors (again, using n=3 and alpha=1e-3)\n",
    "\n",
    "    Args:\n",
    "        docs: list of strings, where each string represents a space-separated document\n",
    "        authors: list of lists, which each list contains the author (or potential authors) of a given document\n",
    "\n",
    "    Returns: tuple: (perp_hamilton, perp_madison, perp_jay)\n",
    "        perp_hamilton: floating point value, mean perplexity of the unknown Federalist papers for the language \n",
    "                       models from Hamilton\n",
    "        perp_madison: floating point value, mean perplexity of the unknown Federalist papers for the language \n",
    "                       models from Madison\n",
    "        perp_jay: floating point value, mean perplexity of the unknown Federalist papers for the language \n",
    "                       models from Jay\n",
    "    \"\"\"\n",
    "    n = 3\n",
    "    unknown_doc_pos = []\n",
    "    j_doc_pos = []\n",
    "    m_doc_pos = []\n",
    "    h_doc_pos = []\n",
    "\n",
    "    doc_w_j = []\n",
    "    doc_w_m = []\n",
    "    doc_w_h = []\n",
    "    doc_w_u = []\n",
    "    \n",
    "    for pos, author in enumerate(authors):\n",
    "        if len(author) > 1:\n",
    "            unknown_doc_pos.append(pos)\n",
    "            doc_w_u.append(docs[pos])\n",
    "        else:\n",
    "            if author[0].lower() == 'jay':\n",
    "                j_doc_pos.append(pos)\n",
    "                doc_w_j.append(docs[pos])\n",
    "            elif author[0].lower() == 'madison':\n",
    "                m_doc_pos.append(pos)\n",
    "                doc_w_m.append(docs[pos])\n",
    "            else:\n",
    "                h_doc_pos.append(pos)\n",
    "                doc_w_h.append(docs[pos])\n",
    "                \n",
    "    ham_model = LanguageModel(doc_w_h,n)\n",
    "    mad_model = LanguageModel(doc_w_m,n)\n",
    "    jay_model = LanguageModel(doc_w_j,n)\n",
    " \n",
    "    perp_hamilton = sum([ham_model.perplexity(i) for i in doc_w_u])/len(doc_w_u)\n",
    "    perp_madison = sum([mad_model.perplexity(i) for i in doc_w_u])/len(doc_w_u)\n",
    "    perp_jay = sum([jay_model.perplexity(i) for i in doc_w_u])/len(doc_w_u)\n",
    "\n",
    "\n",
    "    return (perp_hamilton, perp_madison, perp_jay)\n"
   ]
  },
  {
   "cell_type": "markdown",
   "metadata": {},
   "source": [
    "Does the most likely author (i.e., the author with the smallest perplexity), match up with the author with the highest cosine similarity above?"
   ]
  }
 ],
 "metadata": {
  "kernelspec": {
   "display_name": "Python 3",
   "language": "python",
   "name": "python3"
  },
  "language_info": {
   "codemirror_mode": {
    "name": "ipython",
    "version": 3
   },
   "file_extension": ".py",
   "mimetype": "text/x-python",
   "name": "python",
   "nbconvert_exporter": "python",
   "pygments_lexer": "ipython3",
   "version": "3.8.8"
  }
 },
 "nbformat": 4,
 "nbformat_minor": 1
}

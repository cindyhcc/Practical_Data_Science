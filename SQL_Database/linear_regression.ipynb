{
 "cells": [
  {
   "cell_type": "code",
   "execution_count": null,
   "metadata": {
    "colab": {
     "base_uri": "https://localhost:8080/"
    },
    "executionInfo": {
     "elapsed": 4782,
     "status": "ok",
     "timestamp": 1646237128172,
     "user": {
      "displayName": "Patrick Virtue",
      "photoUrl": "https://lh3.googleusercontent.com/a-/AOh14Ghmjq85BB9LfE4ns56_XCl1cX4zsjqBvqoz_hwAIg=s64",
      "userId": "04486989039762923159"
     },
     "user_tz": 300
    },
    "id": "vC43dJxxYEeH",
    "outputId": "c3a5a84b-ffec-4e9a-b16b-9c8b3cd37675"
   },
   "outputs": [],
   "source": [
    "# Colab only: Run this cell to download/install packages\n",
    "import sys\n",
    "if 'google.colab' in sys.modules:\n",
    "    !curl http://www.datasciencecourse.org/assignments/hw3_linear.tar.gz --output hw3_linear.tar.gz\n",
    "    !tar -xzf hw3_linear.tar.gz\n",
    "    !mv hw3_linear/* ./\n",
    "    !pip install --upgrade --no-deps --force-reinstall git+https://github.com/locuslab/mugrade.git"
   ]
  },
  {
   "cell_type": "markdown",
   "metadata": {
    "id": "zb0Tr85SYAd5"
   },
   "source": [
    "# Linear Regression\n",
    "\n",
    "In this homework, we are going to apply linear regression to the problem of predicting developer satisfaction based upon information about their careers, from a StackOverflow survey.  The data from this question is based on the [2019 StackOverflow Survey](https://insights.stackoverflow.com/survey/2019); accordingly, the subset bundled with this assignment is also released under the Open Database License (ODbL) v1.0.  For this problem, you should not use Scikit-Learn, but instead, implement all the least squares solutions manually.\n"
   ]
  },
  {
   "cell_type": "markdown",
   "metadata": {
    "id": "GsSSM7jXYAeC"
   },
   "source": [
    "### Q1 Data Parsing\n",
    "\n",
    "The data from this survey has the values as described below.  Your eventual goal will be to predict (a numerical equivalent of) the `CarreerSat` column, indicating how satisfied the subject is with their career), based upon the other values.  Note that because the career satisfaction values are ordinal, we likely should not be predicting them with linear regression, but as an illustrative example, this is still a reasonable task.\n",
    "\n",
    "The data set contains the following columns.\n",
    "\n",
    "| Column | Sample | Does/is the respondent... | Type/Values |\n",
    "| --- |:--- |:--- |:--- |\n",
    "| **CareerSat** | 'vs' | satisfied with their career? | (`vd`, `sd`, `ne`, `NA`, `ss`, `vs`) -- corresponding to ({very, slightly}, {satisfied, dissatisfied}), neutral, and not applicable |\n",
    "| MgrWant | 'n' | ...want to be a manager? | boolean |\n",
    "| Age    | '22'   | age | integer     |\n",
    "| CodeRevHrs | '2' | hours a week spent reviewing code | integer |\n",
    "| ConvertedComp | '61000' | yearly compensation in 2019 USD | integer |\n",
    "| Country | 'United States' | lives in country | string _(ignore in regression)_ |\n",
    "| Dependents | 'n' | ...have children or other dependents. | boolean |\n",
    "| DevEnvironVSC | 'y' | ...use Visual Studio Code | boolean |\n",
    "| DevTypeFullStack | 'n' | ...identify as a full-stack developer | boolean |\n",
    "| EdLevel | 'bachelors' | maximum education level | (`other`, `bachelors`, `masters`, `doctoral`) |\n",
    "| EduOtherMOOC | 'y' | ...ever taken a Massively Open Online Course | boolean |\n",
    "| EduOtherSelf | 'y' | ...ever taught themselves a new platform | boolean _(ignore in regression, this is  duplicate field)_ |\n",
    "| Extraversion | 'y' | ...prefer in-person meetings to online meetings | boolean |\n",
    "| GenderIsMan | 'y' | ...male | boolean |\n",
    "| Hobbyist | 'n' | ...write code as a hobby? | boolean |\n",
    "| MgrIdiot | 'very' | ...think their manager knows what they are doing? | (`NA`, `not`, `some`, `very`), in order of increasing confidence |\n",
    "| OpSys | 'win' | which OS do they use? | (`win`, `mac`, `tux`, `NA`), for (Windows, Mac OSX, Linux-like, NA) |\n",
    "| OpenSourcer | 'Never' | ...contribute to open-source projects? | (`never`, `year`, `month-year`, `month`), in increasing order of frequency |\n",
    "| OrgSize | '100-499' | number of employees in organization? | (`NA`, `1`, `2-9`, `10-19`, `20-99`, `100-499`, `500-999`, `1,000-4,999`, `5,000-9,999`, `10,000+`) |\n",
    "| Respondent | '4' | respondent ID from original data | integer _(ignore in regression)_ |\n",
    "| Student | 'n' | ...currently a student? | boolean |\n",
    "| UndergradMajorIsComputerScience | 'y' | ...majored in CS? | boolean |\n",
    "| UnitTestsProcess | 'n' | ...use unit tests in their job? | boolean |\n",
    "| WorkWeekHrs | '40' | hours a week worked | integer |\n",
    "| YearsCode | 3 | years since first programming | integer |\n",
    "| YearsCodePro | 0 | years programming professionally | integer |"
   ]
  },
  {
   "cell_type": "markdown",
   "metadata": {
    "id": "xIaLMH-GYAeG"
   },
   "source": [
    "When you load the data for linear regression, you will want to convert each type to a floating point value according to the columns above.  Specifically, for each column listed above, convert the value to a numeric quantity using the rules below.  Note that there are some fairly unnatural assumptions here (like converting NAs to 0.0), but these are largely to illustrate the methodology without adding too much additional processing work.\n",
    "\n",
    " - _boolean_ : `y`/`NA`/`n` assigned to `+1.0`/`0.0`/`0.0`\n",
    " - _integer_ : convert to `float`, preserving value. `NA` equals `0.0`. \n",
    " - _string_ : not included in regression; we'll use it later\n",
    " - CareerSat: Map (`vd`, `sd`, `ne`, `NA`, `ss`, `vs`) to (-2.0, -1.0, 0.0, 0.0, 1.0, 2.0)\n",
    " - EdLevel: Map (`other`, `bachelors`, `masters`, `doctoral`) to (0.0, 1.0, 1.5, 2.0)\n",
    " - MgrIdiot: Map (`NA`, `not`, `some`, `very`) to (-1.0, -1.0, 0.0, 1.0)\n",
    " - OpSys: Map (`win`, `mac`, `NA`, `tux`, `BSD`) to (-1.0, 0.0, 0.0, 1.0, 1.0)\n",
    " - OpenSourcer : Map (`never`, `year`, `month-year`, `month`) to (0.0, 0.5, 1.0, 2.0)\n",
    " - OrgSize: Map each range \"$a$-$b$\" to the value $ln(a)$. Treat `NA` as `ln(1.0) = 0`. We are converting an exponentially distributed range to a linearly distributed one.\n",
    "\n",
    "Remove the columns listed above as being ignored. \n",
    "\n",
    "Some hints:\n",
    "  1. Load the csv file with `pd.read_csv(filname, dtype=str, keep_default_na=False)` to ensure that you load all columns as text (so you can do your own preprocessing), and ignore pandas's default conversion to NaN values.\n",
    "  2. Use the `.apply()` function in pandas to convert"
   ]
  },
  {
   "cell_type": "code",
   "execution_count": 150,
   "metadata": {
    "id": "uLu0XmT1YAeI"
   },
   "outputs": [],
   "source": [
    "import csv\n",
    "import gzip\n",
    "import math\n",
    "import hashlib\n",
    "import numpy as np\n",
    "import pandas as pd\n",
    "import mugrade\n",
    "import re\n",
    "from sklearn.model_selection import train_test_split"
   ]
  },
  {
   "cell_type": "code",
   "execution_count": 405,
   "metadata": {
    "id": "5uzLmJbJYAeK"
   },
   "outputs": [],
   "source": [
    "# @mugrade.local_tests\n",
    "# @mugrade.submit_tests('28PY3HJpnZGQT8R2VgdC')\n",
    "\n",
    "def parse_stackoverflow_data():\n",
    "    \"\"\"Load data from the \"eggs.csv.gz\" file, and convert for use in linear regression\n",
    "    \n",
    "    Returns:\n",
    "        pandas.DataFrame, containing the data converted to floating point values appropriately.\n",
    "    \"\"\"\n",
    "    filename = \"eggs.csv.gz\"\n",
    "    data = pd.read_csv(filename, dtype=str, keep_default_na=False)\n",
    "    bool_col = ['MgrWant', 'Dependents', 'DevEnvironVSC', 'DevTypeFullStack', 'EduOtherMOOC', 'Extraversion',\n",
    "               'GenderIsMan', 'Hobbyist', 'Student', 'UndergradMajorIsComputerScience', 'UnitTestsProcess']\n",
    "    int_col = ['Age', 'CodeRevHrs', 'ConvertedComp', 'WorkWeekHrs', 'YearsCode', 'YearsCodePro']\n",
    "    \n",
    "    for col in int_col:\n",
    "        data[col] = pd.to_numeric(data[col], errors='coerce')\n",
    "        data[col] = data[col].fillna(0.0)\n",
    "    data['Respondent'] = data['Respondent'].astype('float')\n",
    "    \n",
    "    f = lambda x: +1.0 if x == 'y' else 0.0\n",
    "    for col in bool_col:\n",
    "        data[col]= data[col].apply(f)\n",
    "    \n",
    "    data = data.drop(['Country', 'Respondent', 'EduOtherSelf'], axis = 1)\n",
    "    data['CareerSat']= data['CareerSat'].map(dict(zip(data.CareerSat.astype('category').cat.categories,[0.0,0.0,-1.0,1.0,-2.0,2.0])))\n",
    "    data['EdLevel']=data['EdLevel'].map(dict(zip(data.EdLevel.astype('category').cat.categories,[1.0,2.0,1.5,0.0])))\n",
    "    data['MgrIdiot']=data['MgrIdiot'].map(dict(zip(data.MgrIdiot.astype('category').cat.categories,[-1.0,-1.0,0.0,1.0])))\n",
    "    data['OpSys']=data['OpSys'].map(dict(zip(data.OpSys.astype('category').cat.categories,[1.0,0.0,0.0,1.0,-1.0])))\n",
    "    data['OpenSourcer']=data['OpenSourcer'].map(dict(zip(data.OpenSourcer.astype('category').cat.categories,[2.0,1.0,0.0,0.5])))\n",
    "    \n",
    "    org_d = dict()\n",
    "    unique_val =  set(data['OrgSize'])\n",
    "    for i in unique_val:\n",
    "        if i == 'NA':\n",
    "            org_d[i] = 0.0\n",
    "        else: \n",
    "            i = re.sub(\"[ ,+]\", \"\", i)\n",
    "            i = i.split('-')[0]\n",
    "            org_d[i] = np.log(int(i)) \n",
    "            \n",
    "    replace_org = []\n",
    "    for i in data['OrgSize']:\n",
    "        if i == 'NA':\n",
    "            replace_org.append(org_d[i])            \n",
    "        else:\n",
    "            i = re.sub(\"[ ,+]\", \"\", i)\n",
    "            i = i.split('-')\n",
    "            replace_org.append(org_d[i[0]])\n",
    "    data['OrgSize'] = replace_org\n",
    "    \n",
    "    return data\n",
    "\n",
    "    pass"
   ]
  },
  {
   "cell_type": "code",
   "execution_count": 411,
   "metadata": {},
   "outputs": [
    {
     "data": {
      "text/html": [
       "<div>\n",
       "<style scoped>\n",
       "    .dataframe tbody tr th:only-of-type {\n",
       "        vertical-align: middle;\n",
       "    }\n",
       "\n",
       "    .dataframe tbody tr th {\n",
       "        vertical-align: top;\n",
       "    }\n",
       "\n",
       "    .dataframe thead th {\n",
       "        text-align: right;\n",
       "    }\n",
       "</style>\n",
       "<table border=\"1\" class=\"dataframe\">\n",
       "  <thead>\n",
       "    <tr style=\"text-align: right;\">\n",
       "      <th></th>\n",
       "      <th>CareerSat</th>\n",
       "      <th>MgrWant</th>\n",
       "      <th>Hobbyist</th>\n",
       "      <th>OpenSourcer</th>\n",
       "      <th>Student</th>\n",
       "      <th>EdLevel</th>\n",
       "      <th>UndergradMajorIsComputerScience</th>\n",
       "      <th>EduOtherMOOC</th>\n",
       "      <th>OrgSize</th>\n",
       "      <th>DevTypeFullStack</th>\n",
       "      <th>...</th>\n",
       "      <th>ConvertedComp</th>\n",
       "      <th>WorkWeekHrs</th>\n",
       "      <th>CodeRevHrs</th>\n",
       "      <th>UnitTestsProcess</th>\n",
       "      <th>DevEnvironVSC</th>\n",
       "      <th>OpSys</th>\n",
       "      <th>Extraversion</th>\n",
       "      <th>Age</th>\n",
       "      <th>GenderIsMan</th>\n",
       "      <th>Dependents</th>\n",
       "    </tr>\n",
       "  </thead>\n",
       "  <tbody>\n",
       "    <tr>\n",
       "      <th>count</th>\n",
       "      <td>65679.000000</td>\n",
       "      <td>65679.000000</td>\n",
       "      <td>65679.000000</td>\n",
       "      <td>65679.000000</td>\n",
       "      <td>65679.000000</td>\n",
       "      <td>65679.000000</td>\n",
       "      <td>65679.000000</td>\n",
       "      <td>65679.000000</td>\n",
       "      <td>65679.000000</td>\n",
       "      <td>65679.000000</td>\n",
       "      <td>...</td>\n",
       "      <td>6.567900e+04</td>\n",
       "      <td>65679.000000</td>\n",
       "      <td>65679.000000</td>\n",
       "      <td>65679.000000</td>\n",
       "      <td>65679.000000</td>\n",
       "      <td>65679.000000</td>\n",
       "      <td>65679.000000</td>\n",
       "      <td>65679.000000</td>\n",
       "      <td>65679.000000</td>\n",
       "      <td>65679.000000</td>\n",
       "    </tr>\n",
       "    <tr>\n",
       "      <th>mean</th>\n",
       "      <td>0.949954</td>\n",
       "      <td>0.241630</td>\n",
       "      <td>0.159594</td>\n",
       "      <td>0.634076</td>\n",
       "      <td>0.161635</td>\n",
       "      <td>0.904718</td>\n",
       "      <td>0.667002</td>\n",
       "      <td>0.572070</td>\n",
       "      <td>4.230616</td>\n",
       "      <td>0.293336</td>\n",
       "      <td>...</td>\n",
       "      <td>9.765935e+04</td>\n",
       "      <td>37.290117</td>\n",
       "      <td>3.614195</td>\n",
       "      <td>0.368839</td>\n",
       "      <td>0.524947</td>\n",
       "      <td>-0.196806</td>\n",
       "      <td>0.602552</td>\n",
       "      <td>28.335349</td>\n",
       "      <td>0.888732</td>\n",
       "      <td>0.388161</td>\n",
       "    </tr>\n",
       "    <tr>\n",
       "      <th>std</th>\n",
       "      <td>1.170025</td>\n",
       "      <td>0.428074</td>\n",
       "      <td>0.366232</td>\n",
       "      <td>0.634092</td>\n",
       "      <td>0.368118</td>\n",
       "      <td>0.559362</td>\n",
       "      <td>0.471290</td>\n",
       "      <td>0.494782</td>\n",
       "      <td>2.924413</td>\n",
       "      <td>0.455294</td>\n",
       "      <td>...</td>\n",
       "      <td>2.552100e+05</td>\n",
       "      <td>38.733760</td>\n",
       "      <td>5.101685</td>\n",
       "      <td>0.482494</td>\n",
       "      <td>0.499381</td>\n",
       "      <td>0.809142</td>\n",
       "      <td>0.489374</td>\n",
       "      <td>11.937477</td>\n",
       "      <td>0.314467</td>\n",
       "      <td>0.487335</td>\n",
       "    </tr>\n",
       "    <tr>\n",
       "      <th>min</th>\n",
       "      <td>-2.000000</td>\n",
       "      <td>0.000000</td>\n",
       "      <td>0.000000</td>\n",
       "      <td>0.000000</td>\n",
       "      <td>0.000000</td>\n",
       "      <td>0.000000</td>\n",
       "      <td>0.000000</td>\n",
       "      <td>0.000000</td>\n",
       "      <td>0.000000</td>\n",
       "      <td>0.000000</td>\n",
       "      <td>...</td>\n",
       "      <td>0.000000e+00</td>\n",
       "      <td>0.000000</td>\n",
       "      <td>0.000000</td>\n",
       "      <td>0.000000</td>\n",
       "      <td>0.000000</td>\n",
       "      <td>-1.000000</td>\n",
       "      <td>0.000000</td>\n",
       "      <td>0.000000</td>\n",
       "      <td>0.000000</td>\n",
       "      <td>0.000000</td>\n",
       "    </tr>\n",
       "    <tr>\n",
       "      <th>25%</th>\n",
       "      <td>0.000000</td>\n",
       "      <td>0.000000</td>\n",
       "      <td>0.000000</td>\n",
       "      <td>0.000000</td>\n",
       "      <td>0.000000</td>\n",
       "      <td>1.000000</td>\n",
       "      <td>0.000000</td>\n",
       "      <td>0.000000</td>\n",
       "      <td>2.302585</td>\n",
       "      <td>0.000000</td>\n",
       "      <td>...</td>\n",
       "      <td>3.024000e+03</td>\n",
       "      <td>36.000000</td>\n",
       "      <td>0.000000</td>\n",
       "      <td>0.000000</td>\n",
       "      <td>0.000000</td>\n",
       "      <td>-1.000000</td>\n",
       "      <td>0.000000</td>\n",
       "      <td>24.000000</td>\n",
       "      <td>1.000000</td>\n",
       "      <td>0.000000</td>\n",
       "    </tr>\n",
       "    <tr>\n",
       "      <th>50%</th>\n",
       "      <td>1.000000</td>\n",
       "      <td>0.000000</td>\n",
       "      <td>0.000000</td>\n",
       "      <td>0.500000</td>\n",
       "      <td>0.000000</td>\n",
       "      <td>1.000000</td>\n",
       "      <td>1.000000</td>\n",
       "      <td>1.000000</td>\n",
       "      <td>2.995732</td>\n",
       "      <td>0.000000</td>\n",
       "      <td>...</td>\n",
       "      <td>3.838300e+04</td>\n",
       "      <td>40.000000</td>\n",
       "      <td>2.000000</td>\n",
       "      <td>0.000000</td>\n",
       "      <td>1.000000</td>\n",
       "      <td>0.000000</td>\n",
       "      <td>1.000000</td>\n",
       "      <td>28.000000</td>\n",
       "      <td>1.000000</td>\n",
       "      <td>0.000000</td>\n",
       "    </tr>\n",
       "    <tr>\n",
       "      <th>75%</th>\n",
       "      <td>2.000000</td>\n",
       "      <td>0.000000</td>\n",
       "      <td>0.000000</td>\n",
       "      <td>1.000000</td>\n",
       "      <td>0.000000</td>\n",
       "      <td>1.500000</td>\n",
       "      <td>1.000000</td>\n",
       "      <td>1.000000</td>\n",
       "      <td>6.907755</td>\n",
       "      <td>1.000000</td>\n",
       "      <td>...</td>\n",
       "      <td>8.336400e+04</td>\n",
       "      <td>42.000000</td>\n",
       "      <td>5.000000</td>\n",
       "      <td>1.000000</td>\n",
       "      <td>1.000000</td>\n",
       "      <td>0.000000</td>\n",
       "      <td>1.000000</td>\n",
       "      <td>34.000000</td>\n",
       "      <td>1.000000</td>\n",
       "      <td>1.000000</td>\n",
       "    </tr>\n",
       "    <tr>\n",
       "      <th>max</th>\n",
       "      <td>2.000000</td>\n",
       "      <td>1.000000</td>\n",
       "      <td>1.000000</td>\n",
       "      <td>2.000000</td>\n",
       "      <td>1.000000</td>\n",
       "      <td>2.000000</td>\n",
       "      <td>1.000000</td>\n",
       "      <td>1.000000</td>\n",
       "      <td>9.210340</td>\n",
       "      <td>1.000000</td>\n",
       "      <td>...</td>\n",
       "      <td>2.000000e+06</td>\n",
       "      <td>4850.000000</td>\n",
       "      <td>99.000000</td>\n",
       "      <td>1.000000</td>\n",
       "      <td>1.000000</td>\n",
       "      <td>1.000000</td>\n",
       "      <td>1.000000</td>\n",
       "      <td>99.000000</td>\n",
       "      <td>1.000000</td>\n",
       "      <td>1.000000</td>\n",
       "    </tr>\n",
       "  </tbody>\n",
       "</table>\n",
       "<p>8 rows × 23 columns</p>\n",
       "</div>"
      ],
      "text/plain": [
       "          CareerSat       MgrWant      Hobbyist   OpenSourcer       Student  \\\n",
       "count  65679.000000  65679.000000  65679.000000  65679.000000  65679.000000   \n",
       "mean       0.949954      0.241630      0.159594      0.634076      0.161635   \n",
       "std        1.170025      0.428074      0.366232      0.634092      0.368118   \n",
       "min       -2.000000      0.000000      0.000000      0.000000      0.000000   \n",
       "25%        0.000000      0.000000      0.000000      0.000000      0.000000   \n",
       "50%        1.000000      0.000000      0.000000      0.500000      0.000000   \n",
       "75%        2.000000      0.000000      0.000000      1.000000      0.000000   \n",
       "max        2.000000      1.000000      1.000000      2.000000      1.000000   \n",
       "\n",
       "            EdLevel  UndergradMajorIsComputerScience  EduOtherMOOC  \\\n",
       "count  65679.000000                     65679.000000  65679.000000   \n",
       "mean       0.904718                         0.667002      0.572070   \n",
       "std        0.559362                         0.471290      0.494782   \n",
       "min        0.000000                         0.000000      0.000000   \n",
       "25%        1.000000                         0.000000      0.000000   \n",
       "50%        1.000000                         1.000000      1.000000   \n",
       "75%        1.500000                         1.000000      1.000000   \n",
       "max        2.000000                         1.000000      1.000000   \n",
       "\n",
       "            OrgSize  DevTypeFullStack  ...  ConvertedComp   WorkWeekHrs  \\\n",
       "count  65679.000000      65679.000000  ...   6.567900e+04  65679.000000   \n",
       "mean       4.230616          0.293336  ...   9.765935e+04     37.290117   \n",
       "std        2.924413          0.455294  ...   2.552100e+05     38.733760   \n",
       "min        0.000000          0.000000  ...   0.000000e+00      0.000000   \n",
       "25%        2.302585          0.000000  ...   3.024000e+03     36.000000   \n",
       "50%        2.995732          0.000000  ...   3.838300e+04     40.000000   \n",
       "75%        6.907755          1.000000  ...   8.336400e+04     42.000000   \n",
       "max        9.210340          1.000000  ...   2.000000e+06   4850.000000   \n",
       "\n",
       "         CodeRevHrs  UnitTestsProcess  DevEnvironVSC         OpSys  \\\n",
       "count  65679.000000      65679.000000   65679.000000  65679.000000   \n",
       "mean       3.614195          0.368839       0.524947     -0.196806   \n",
       "std        5.101685          0.482494       0.499381      0.809142   \n",
       "min        0.000000          0.000000       0.000000     -1.000000   \n",
       "25%        0.000000          0.000000       0.000000     -1.000000   \n",
       "50%        2.000000          0.000000       1.000000      0.000000   \n",
       "75%        5.000000          1.000000       1.000000      0.000000   \n",
       "max       99.000000          1.000000       1.000000      1.000000   \n",
       "\n",
       "       Extraversion           Age   GenderIsMan    Dependents  \n",
       "count  65679.000000  65679.000000  65679.000000  65679.000000  \n",
       "mean       0.602552     28.335349      0.888732      0.388161  \n",
       "std        0.489374     11.937477      0.314467      0.487335  \n",
       "min        0.000000      0.000000      0.000000      0.000000  \n",
       "25%        0.000000     24.000000      1.000000      0.000000  \n",
       "50%        1.000000     28.000000      1.000000      0.000000  \n",
       "75%        1.000000     34.000000      1.000000      1.000000  \n",
       "max        1.000000     99.000000      1.000000      1.000000  \n",
       "\n",
       "[8 rows x 23 columns]"
      ]
     },
     "execution_count": 411,
     "metadata": {},
     "output_type": "execute_result"
    }
   ],
   "source": [
    "parse_stackoverflow_data().describe(include='all')"
   ]
  },
  {
   "cell_type": "markdown",
   "metadata": {
    "id": "2rJW5Um0YAeT"
   },
   "source": [
    "### Q2 Splitting Data\n",
    "\n",
    "Now we prepare the converted data for regression. In this step, we:\n",
    "\n",
    " 1. Extract the data as a numpy array\n",
    " 2. Split the data into train and validation sets.  You can use the first 20% of the data (rounded down) as the validation set and keep the remaining as the training set. (Note that it is common practice to randomize the dataset; this has already been done. Don't shuffle the dataset for this assignment.)\n",
    " 3. Split each set into the predicted column (the first column in the data frame) and the feature columns (the remaining columns), plus a final column corresponding to a constant 1.0 value.  Not that you should keep the ordering of the feature columns the same as they appear in the data.\n"
   ]
  },
  {
   "cell_type": "code",
   "execution_count": 406,
   "metadata": {
    "id": "7wuwKKD3YAeU"
   },
   "outputs": [
    {
     "name": "stdout",
     "output_type": "stream",
     "text": [
      "Running local tests for function split_data():\n",
      "  Test 1 PASSED\n",
      "  Test 2 PASSED\n",
      "  Test 3 PASSED\n"
     ]
    }
   ],
   "source": [
    "@mugrade.local_tests\n",
    "# @mugrade.submit_tests('28PY3HJpnZGQT8R2VgdC')\n",
    "\n",
    "def split_data(df):\n",
    "    \"\"\"split the data into training and validation sets, and convert them to np.ndarray. (Step 1 and 2 above.)\n",
    "\n",
    "    args:\n",
    "        df : pandas.DataFrame -- the parsed data, as returned by parse_stackoverflow_data()\n",
    "\n",
    "    returns: X_train, y_train, X_val, y_val\n",
    "      X_train  : np.ndarray -- the second 80% of the data features\n",
    "      y_train : np.ndarray -- the second 80% of the target values\n",
    "      X_val : np.ndarray -- the first 20% (rounded down) of the data features\n",
    "      y_val : np.ndarray -- the first 20% of the target values\n",
    "    \"\"\"\n",
    "    data = np.array(df)\n",
    "\n",
    "    # calculate row position of end of 20% data\n",
    "    twenty_percent = int(len(data)*.2)\n",
    "    eighty_percent = len(data)-twenty_percent\n",
    "    \n",
    "    # calculate starting row position of 80% data for training\n",
    "    train_c = len(data) - twenty_percent\n",
    "\n",
    "    # create validation with 20% data\n",
    "    X_val = data[:twenty_percent, 1:int(df.shape[1])]\n",
    "    X_val = np.append(X_val, np.ones([twenty_percent,1]), axis=1)\n",
    "    \n",
    "    # create train data with 80% data\n",
    "    X_train = data[twenty_percent:, 1:int(df.shape[1])]\n",
    "    X_train = np.append(X_train, np.ones([train_c,1]), axis=1)\n",
    "    \n",
    "    # create y_val with 20% data\n",
    "    y_val = data[:twenty_percent,0]\n",
    "    \n",
    "    # create y_train with 80% data\n",
    "    y_train = data[twenty_percent:,0]\n",
    "    \n",
    "\n",
    "    \n",
    "    return X_train, y_train, X_val, y_val\n",
    "    \n",
    "    \n",
    "    pass"
   ]
  },
  {
   "cell_type": "code",
   "execution_count": 418,
   "metadata": {},
   "outputs": [
    {
     "name": "stdout",
     "output_type": "stream",
     "text": [
      "[[0. 0. 0. ... 1. 0. 1.]\n",
      " [0. 0. 2. ... 1. 0. 1.]\n",
      " [0. 0. 0. ... 1. 1. 1.]\n",
      " ...\n",
      " [0. 0. 0. ... 1. 1. 1.]\n",
      " [0. 0. 0. ... 1. 0. 1.]\n",
      " [1. 0. 0. ... 1. 1. 1.]]\n"
     ]
    }
   ],
   "source": [
    "print(result[2])"
   ]
  },
  {
   "cell_type": "code",
   "execution_count": 352,
   "metadata": {},
   "outputs": [
    {
     "name": "stdout",
     "output_type": "stream",
     "text": [
      "(52544, 23)\n"
     ]
    }
   ],
   "source": [
    "result = split_data(parse_stackoverflow_data())\n"
   ]
  },
  {
   "cell_type": "code",
   "execution_count": 354,
   "metadata": {},
   "outputs": [
    {
     "data": {
      "text/plain": [
       "(65679, 23)"
      ]
     },
     "execution_count": 354,
     "metadata": {},
     "output_type": "execute_result"
    }
   ],
   "source": [
    "parse_stackoverflow_data().shape"
   ]
  },
  {
   "cell_type": "code",
   "execution_count": 355,
   "metadata": {},
   "outputs": [
    {
     "data": {
      "text/plain": [
       "65679"
      ]
     },
     "execution_count": 355,
     "metadata": {},
     "output_type": "execute_result"
    }
   ],
   "source": [
    "52544+13135"
   ]
  },
  {
   "cell_type": "code",
   "execution_count": 353,
   "metadata": {},
   "outputs": [
    {
     "name": "stdout",
     "output_type": "stream",
     "text": [
      "(52544, 23)\n",
      "(52544,)\n",
      "(13135, 23)\n",
      "(13135,)\n"
     ]
    }
   ],
   "source": [
    "print(result[0].shape)\n",
    "print(result[1].shape)\n",
    "print(result[2].shape)\n",
    "print(result[3].shape)\n"
   ]
  },
  {
   "cell_type": "code",
   "execution_count": 217,
   "metadata": {},
   "outputs": [
    {
     "name": "stdout",
     "output_type": "stream",
     "text": [
      "(65679, 23)\n",
      "None\n"
     ]
    }
   ],
   "source": [
    "#     # create np array of ones for training \n",
    "#     train = np.ones([train_c,1])\n",
    "    \n",
    "#     # create np array of ones for validation \n",
    "#     val = np.ones([twenty_percent,1])\n",
    "\n",
    "\n",
    "\n",
    "result = split_data(parse_stackoverflow_data())\n",
    "\n",
    "print(result)\n",
    "# result[0].shape == (52544, 23)\n",
    "# result[1].shape \n",
    "# objects_equal(result[0][:,0].mean(), 0.24120736906211937)"
   ]
  },
  {
   "cell_type": "markdown",
   "metadata": {
    "id": "fdDS-CxBYAec"
   },
   "source": [
    "### Q3 Linear Regression\n",
    "\n",
    "Now we are going to build a simple scikit-learn-like class for least squares linear regression.  Recall from lecture that the linear regression approach models the data as:\n",
    "$$ y^{(i)} \\approx \\theta^T x^{(i)} $$\n",
    "and the optimal $\\theta$ is given by:\n",
    "$$ \\theta^* = (X^T X)^{-1}X^T y $$\n",
    "using the notation described in the slides and course notes.  Recall, as mentioned in class, that you should use the `np.linalg.solve()` function rather than the `np.linalg.inv()` function to compute this solution.\n",
    "\n",
    "Implement the class below, plus the `squared_error` function."
   ]
  },
  {
   "cell_type": "code",
   "execution_count": 396,
   "metadata": {
    "id": "6VKh1SDVYAec"
   },
   "outputs": [],
   "source": [
    "def squared_error(y_pred, y):\n",
    "    \"\"\" Utility function to compute squared error\n",
    "    args:\n",
    "        y_pred : np.ndarray[num_examples] -- the predictions\n",
    "        y : np.ndarray[num_examples] -- the ground truth values\n",
    "\n",
    "    returns:\n",
    "        float : _average_ squared error between y_pred and y\n",
    "    \"\"\"\n",
    "#     y_pred.astype(int)\n",
    "#     print(len(y_pred))\n",
    "    squared_error = 0\n",
    "\n",
    "    if isinstance(y_pred,float): \n",
    "        for i in range(len(y)):   \n",
    "            squared_error += (y[i] - y_pred) **2\n",
    "\n",
    "    else:\n",
    "        for i in range(len(y)):   \n",
    "            squared_error += (y[i] - y_pred[i]) **2\n",
    "\n",
    "    avrg_squared_error = squared_error/ len(y)\n",
    "    \n",
    "    return avrg_squared_error\n",
    "    \n",
    "# @mugrade.local_tests\n",
    "# @mugrade.submit_tests('28PY3HJpnZGQT8R2VgdC')\n",
    "\n",
    "class LinearRegression():\n",
    "    \"\"\" Perform linear regression and predict the output on unseen examples. \n",
    "    \n",
    "    attributes: \n",
    "        theta (np.ndarray) : vector containing parameters for the features\n",
    "    \"\"\"\n",
    "\n",
    "    def __init__(self, X, y):\n",
    "        \"\"\" Train the linear regression model by computing the estimate of the parameters\n",
    "        You should store the model parameters in self.theta\n",
    "\n",
    "        args: \n",
    "            X (np.ndarray[num_examples, num_columns]) : matrix of training data\n",
    "            y (np.ndarray[num_examples]) : vector of output variables\n",
    "\n",
    "        return: LinearRegression -- returns itself (for convenience)\n",
    "        \"\"\"\n",
    "#         # Calculate the mean of X and y\n",
    "#         x_mean = np.mean(X)\n",
    "#         y_mean = np.mean(y)\n",
    "        \n",
    "#         # calculate xy cov and x variance \n",
    "#         xy_cov = [((X[i] - x_mean) * (y[i] - y_mean)) for i in range(len(y))]\n",
    "#         xvar = [(X[i]-x_mean)**2 for i in range(len(y))]\n",
    "        \n",
    "#         # calculate beta\n",
    "#         beta = sum(xy_cov)/sum(xvar)\n",
    "#         alpha = y_mean - (beta * x_mean)\n",
    "        \n",
    "        self.theta = np.linalg.solve(X.T @ X, X.T @ y)\n",
    "    \n",
    "\n",
    "    def predict(self, X): \n",
    "        \"\"\" Use the learned model to predict the output of X_p\n",
    "\n",
    "        args: \n",
    "            X : np.ndarray[num_examples, num_columns] -- matrix of features for which we form a prediction\n",
    "\n",
    "        return: \n",
    "            np.ndarray[num_examples], vector of predicted outputs\n",
    "        \"\"\"\n",
    "        ypred = X @ self.theta\n",
    "    \n",
    "        return ypred\n",
    "    \n",
    "    \n",
    "    "
   ]
  },
  {
   "cell_type": "code",
   "execution_count": 414,
   "metadata": {},
   "outputs": [
    {
     "data": {
      "text/plain": [
       "array([-1.,  1.,  0., ...,  0., -1., -1.])"
      ]
     },
     "execution_count": 414,
     "metadata": {},
     "output_type": "execute_result"
    }
   ],
   "source": [
    "X_train, y_train, X_val, y_val = split_data(parse_stackoverflow_data())\n",
    "lin_reg = LinearRegression(X_train, y_train)\n",
    "\n",
    "# lin_reg.predict(X_val)[:10]\n",
    "# \n",
    "# lin_reg.theta\n",
    "\n",
    "y_train"
   ]
  },
  {
   "cell_type": "markdown",
   "metadata": {
    "id": "R26vwwiyYAfG"
   },
   "source": [
    "## Q4 Evaluation versus baselines\n",
    "\n",
    "As a final consideration, If you implement this properly, you will see that we get a squared error of around 1.3 on the validation set.  Is this \"good\"?  This is one of the more subtle points of many data science problems, but we can start to get some sense of this by looking at what the predictions would look like if we _just_ predicted the mean target output on the training set (this is essentially the \"simplest\" prediction we could make if we didn't look at the features at all).\n",
    "\n",
    "Implement the following function to evaluate our linear regression.  Think about what this signifies about the quality of the solution."
   ]
  },
  {
   "cell_type": "code",
   "execution_count": 401,
   "metadata": {
    "id": "9iekxW7-YAfH"
   },
   "outputs": [
    {
     "name": "stdout",
     "output_type": "stream",
     "text": [
      "Submitting tests for function evaluate_linear_regression():\n",
      "  Test 1 PASSED\n"
     ]
    }
   ],
   "source": [
    "# @mugrade.local_tests\n",
    "# @mugrade.submit_tests('28PY3HJpnZGQT8R2VgdC')\n",
    "\n",
    "def evaluate_linear_regression(X_train, y_train, X_val, y_val):\n",
    "    \"\"\" Evaluate the squared error of linear regression versus the simple mean-prediciton baseline.\n",
    "    \n",
    "    Args: X_train, y_train, X_val, y_val -- output of split_data() function\n",
    "    \n",
    "    Return: Tuple[validation_mse, baseline_mse]:\n",
    "        validation_mse: float -- squared error of predictions on validation set, when training on training set\n",
    "        baseline_mse: float -- squared error of predicting the mean on the training set\n",
    "    \"\"\"\n",
    "    y_val_pred = LinearRegression(X_train, y_train)\n",
    "    baseline_mse = squared_error(np.average(y_train), y_val)\n",
    "    validation_mse = squared_error(y_val_pred.predict(X_val), y_val)\n",
    "    return (validation_mse, baseline_mse)"
   ]
  }
 ],
 "metadata": {
  "colab": {
   "collapsed_sections": [],
   "name": "hw3_linear_solution.ipynb",
   "provenance": []
  },
  "file_extension": ".py",
  "kernelspec": {
   "display_name": "Python 3",
   "language": "python",
   "name": "python3"
  },
  "language_info": {
   "codemirror_mode": {
    "name": "ipython",
    "version": 3
   },
   "file_extension": ".py",
   "mimetype": "text/x-python",
   "name": "python",
   "nbconvert_exporter": "python",
   "pygments_lexer": "ipython3",
   "version": "3.8.8"
  },
  "mimetype": "text/x-python",
  "name": "python",
  "npconvert_exporter": "python",
  "pygments_lexer": "ipython3",
  "version": 3
 },
 "nbformat": 4,
 "nbformat_minor": 1
}
